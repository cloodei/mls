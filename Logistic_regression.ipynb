{
 "cells": [
  {
   "cell_type": "markdown",
   "id": "086767d7",
   "metadata": {},
   "source": [
    "# LOGISTIC REGRESSION"
   ]
  },
  {
   "cell_type": "code",
   "execution_count": null,
   "id": "9f013a2f",
   "metadata": {},
   "outputs": [],
   "source": [
    "import numpy as np\n",
    "import matplotlib.pyplot as plt\n",
    "\n",
    "np.random.seed(2)\n",
    "\n",
    "X = np.array([[0.50, 0.75, 1.00, 1.25, 1.50, 1.75, 1.75, 2.00, 2.25, 2.50, \n",
    "              2.75, 3.00, 3.25, 3.50, 4.00, 4.25, 4.50, 4.75, 5.00, 5.50]])\n",
    "y = np.array([[0, 0, 0, 0, 0, 0, 1, 0, 1, 0, 1, 0, 1, 0, 1, 1, 1, 1, 1, 1]])\n",
    "\n",
    "# Tinh chỉnh dữ liệu \n",
    "X = np.concatenate((np.ones((1, X.shape[1])), X), axis = 0).T\n",
    "y = y.reshape(20,1)"
   ]
  },
  {
   "cell_type": "markdown",
   "id": "6119ea52",
   "metadata": {},
   "source": [
    "Tạo hàm tính sigmoid và hàm mất mát"
   ]
  },
  {
   "cell_type": "code",
   "execution_count": null,
   "id": "ab687621",
   "metadata": {},
   "outputs": [],
   "source": [
    "def sigmoid(z):\n",
    "  return 1 / (1 + np.exp(-z))\n",
    "\n",
    "def cost_func(X, y, w):\n",
    "  m = X.shape[0] \n",
    "  h = sigmoid(X @ w)\n",
    "  cost = -(1/m) * (y.T @ np.log(h) + (1 - y).T @ np.log(1 - h))\n",
    "  return cost[0, 0]"
   ]
  },
  {
   "cell_type": "markdown",
   "id": "0733af81",
   "metadata": {},
   "source": [
    "Tiến hành training"
   ]
  },
  {
   "cell_type": "code",
   "execution_count": null,
   "id": "0d76f1d8",
   "metadata": {},
   "outputs": [],
   "source": [
    "epochs = 350\n",
    "eta = 0.05\n",
    "w = np.random.randn(2, 1)\n",
    "for i in range(epochs):\n",
    "  w += eta * X.T @ (y - sigmoid(X@w))\n",
    "  total_cost = cost_func(X, y, w)\n",
    "  if i % 10 == 0:\n",
    "    print(total_cost)\n",
    "\n",
    "print(\"Finished!\")"
   ]
  },
  {
   "cell_type": "markdown",
   "id": "af07ab6f",
   "metadata": {},
   "source": [
    "In ra dự đoán"
   ]
  },
  {
   "cell_type": "code",
   "execution_count": 62,
   "id": "3f76f5a3",
   "metadata": {},
   "outputs": [],
   "source": [
    "print(sigmoid(X@w))"
   ]
  },
  {
   "cell_type": "markdown",
   "id": "95fc5fcc",
   "metadata": {},
   "source": [
    "Vẽ biểu đồ hiển thị kết quả"
   ]
  },
  {
   "cell_type": "code",
   "execution_count": 63,
   "id": "47dc9b68",
   "metadata": {},
   "outputs": [],
   "source": [
    "# Plotting the logistic regression results\n",
    "plt.figure(figsize=(10, 6))\n",
    "\n",
    "# Extract original x values (without bias term)\n",
    "x_original = X[:, 1]  # Second column contains the original x values\n",
    "\n",
    "# Create a range of x values for plotting the sigmoid curve\n",
    "x_range = np.linspace(0, 6, 100)\n",
    "X_range = np.column_stack([np.ones(100), x_range])  # Add bias term\n",
    "y_pred_range = sigmoid(X_range @ w)\n",
    "\n",
    "# Plot the training data points\n",
    "plt.scatter(x_original[y.flatten() == 0], y.flatten()[y.flatten() == 0], \n",
    "           color='red', marker='o', s=100, label='Class 0', alpha=0.7)\n",
    "plt.scatter(x_original[y.flatten() == 1], y.flatten()[y.flatten() == 1], \n",
    "           color='blue', marker='s', s=100, label='Class 1', alpha=0.7)\n",
    "\n",
    "# Plot the sigmoid curve\n",
    "plt.plot(x_range, y_pred_range, 'green', linewidth=2, label='Logistic Regression')\n",
    "\n",
    "# Add decision boundary (where probability = 0.5)\n",
    "decision_boundary_x = -w[0] / w[1]  # x value where w0 + w1*x = 0\n",
    "plt.axvline(x=decision_boundary_x, color='orange', linestyle='--', \n",
    "           linewidth=2, label=f'Decision Boundary (x={decision_boundary_x[0]:.2f})')\n",
    "\n",
    "# Add horizontal line at y=0.5\n",
    "plt.axhline(y=0.5, color='gray', linestyle=':', alpha=0.5)\n",
    "\n",
    "# Labels and formatting\n",
    "plt.xlabel('X', fontsize=12)\n",
    "plt.ylabel('Probability', fontsize=12)\n",
    "plt.title('Logistic Regression Results', fontsize=14, fontweight='bold')\n",
    "plt.legend()\n",
    "plt.grid(True, alpha=0.3)\n",
    "plt.ylim(-0.1, 1.1)\n",
    "plt.xlim(0, 6)\n",
    "\n",
    "# Add text with final weights\n",
    "plt.text(0.5, 0.8, f'Final weights:\\nw0 = {w[0][0]:.3f}\\nw1 = {w[1][0]:.3f}', \n",
    "         bbox=dict(boxstyle=\"round,pad=0.3\", facecolor=\"lightblue\", alpha=0.7))\n",
    "\n",
    "plt.tight_layout()\n",
    "plt.show()"
   ]
  }
 ],
 "metadata": {
  "kernelspec": {
   "display_name": "Python 3",
   "language": "python",
   "name": "python3"
  },
  "language_info": {
   "codemirror_mode": {
    "name": "ipython",
    "version": 3
   },
   "file_extension": ".py",
   "mimetype": "text/x-python",
   "name": "python",
   "nbconvert_exporter": "python",
   "pygments_lexer": "ipython3",
   "version": "3.13.2"
  }
 },
 "nbformat": 4,
 "nbformat_minor": 5
}
