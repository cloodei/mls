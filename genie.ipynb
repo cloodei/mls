{
 "cells": [
  {
   "cell_type": "code",
   "execution_count": 38,
   "id": "0003f36c",
   "metadata": {},
   "outputs": [
    {
     "data": {
      "text/plain": [
       "0      no\n",
       "1      no\n",
       "2     yes\n",
       "3     yes\n",
       "4     yes\n",
       "5      no\n",
       "6     yes\n",
       "7      no\n",
       "8     yes\n",
       "9     yes\n",
       "10    yes\n",
       "11    yes\n",
       "12    yes\n",
       "13     no\n",
       "Name: play, dtype: object"
      ]
     },
     "execution_count": 38,
     "metadata": {},
     "output_type": "execute_result"
    }
   ],
   "source": [
    "import pandas as pd\n",
    "\n",
    "__ = {\n",
    "    \"outlook\": [\n",
    "        \"sunny\", \"sunny\", \"overcast\", \"rainy\", \"rainy\", \"rainy\", \"overcast\",\n",
    "        \"sunny\", \"sunny\", \"rainy\", \"sunny\", \"overcast\", \"overcast\", \"rainy\"\n",
    "    ],\n",
    "    \"temperature\": [\n",
    "        \"hot\", \"hot\", \"hot\", \"mild\", \"cool\", \"cool\", \"cool\",\n",
    "        \"mild\", \"cool\", \"mild\", \"mild\", \"mild\", \"hot\", \"mild\"\n",
    "    ],\n",
    "    \"humidity\": [\n",
    "        \"high\", \"high\", \"high\", \"high\", \"normal\", \"normal\", \"normal\",\n",
    "        \"high\", \"normal\", \"normal\", \"normal\", \"high\", \"high\", \"high\"\n",
    "    ],\n",
    "    \"wind\": [\n",
    "        \"weak\", \"strong\", \"weak\", \"weak\", \"weak\", \"strong\", \"strong\",\n",
    "        \"weak\", \"weak\", \"weak\", \"strong\", \"strong\", \"weak\", \"strong\"\n",
    "    ],\n",
    "    \"play\": [\n",
    "        \"no\", \"no\", \"yes\", \"yes\", \"yes\", \"no\", \"yes\",\n",
    "        \"no\", \"yes\", \"yes\", \"yes\", \"yes\", \"yes\", \"no\"\n",
    "    ]\n",
    "}\n",
    "\n",
    "df = pd.DataFrame(__)\n",
    "class_att = df[df.columns[-1]]\n",
    "classes: list[str] = class_att.unique().tolist()\n",
    "\n",
    "# df, classes, df.columns, class_att.name in df.columns, classes.index(\"yes\")\n",
    "class_att"
   ]
  },
  {
   "cell_type": "code",
   "execution_count": 39,
   "id": "9843849d",
   "metadata": {},
   "outputs": [
    {
     "data": {
      "text/plain": [
       "{'outlook': {'sunny': [3, 2], 'overcast': [0, 4], 'rainy': [2, 3]},\n",
       " 'temperature': {'hot': [2, 2], 'mild': [2, 4], 'cool': [1, 3]},\n",
       " 'humidity': {'high': [4, 4], 'normal': [1, 5]},\n",
       " 'wind': {'weak': [2, 6], 'strong': [3, 3]}}"
      ]
     },
     "execution_count": 39,
     "metadata": {},
     "output_type": "execute_result"
    }
   ],
   "source": [
    "def data_as_dict(df: pd.DataFrame):\n",
    "    res: dict[str, dict[str, list[int]]] = {}\n",
    "    class_att = df[df.columns[-1]]\n",
    "    classes: list[str] = class_att.unique().tolist()\n",
    "    df = df.drop(columns=df.columns[-1])\n",
    "\n",
    "    for attcol in df.columns:\n",
    "        res[attcol] = {}\n",
    "        for attval, classval in zip(df[attcol], class_att):\n",
    "            if attval not in res[attcol]:\n",
    "                res[attcol][attval] = [0] * len(classes)\n",
    "            res[attcol][attval][classes.index(classval)] += 1\n",
    "    return res\n",
    "\n",
    "data_as_dict(df)"
   ]
  },
  {
   "cell_type": "code",
   "execution_count": 40,
   "id": "7285ac91",
   "metadata": {},
   "outputs": [],
   "source": [
    "def gini_split(att: dict[str, list[int]], total: int):\n",
    "    gini = 0.0\n",
    "\n",
    "    for _, counts in att.items():\n",
    "        subtotal = sum(counts)\n",
    "        if subtotal == 0:\n",
    "            continue\n",
    "\n",
    "        score = 1.0\n",
    "        for c in counts:\n",
    "            p = c / subtotal\n",
    "            score -= p * p\n",
    "\n",
    "        gini += (subtotal * 1.0 / total) * score\n",
    "    print(gini)\n",
    "    return gini\n",
    "\n",
    "def best_split(df: pd.DataFrame):\n",
    "    data = data_as_dict(df)\n",
    "    total = len(df)\n",
    "    best_att = None\n",
    "    best_gini = float(\"inf\")\n",
    "\n",
    "    for att, val in data.items():\n",
    "        gini = gini_split(val, total)\n",
    "        if gini < best_gini:\n",
    "            best_gini = gini\n",
    "            best_att = att\n",
    "    return best_att, best_gini"
   ]
  },
  {
   "cell_type": "code",
   "execution_count": 41,
   "id": "59d489f6",
   "metadata": {},
   "outputs": [
    {
     "name": "stdout",
     "output_type": "stream",
     "text": [
      "0.34285714285714286\n",
      "0.44047619047619047\n",
      "0.4047619047619047\n",
      "0.42857142857142855\n"
     ]
    },
    {
     "data": {
      "text/plain": [
       "('outlook', 0.34285714285714286)"
      ]
     },
     "execution_count": 41,
     "metadata": {},
     "output_type": "execute_result"
    }
   ],
   "source": [
    "root_att, root_gini = best_split(df)\n",
    "root_att, root_gini"
   ]
  }
 ],
 "metadata": {
  "kernelspec": {
   "display_name": "mls",
   "language": "python",
   "name": "python3"
  },
  "language_info": {
   "codemirror_mode": {
    "name": "ipython",
    "version": 3
   },
   "file_extension": ".py",
   "mimetype": "text/x-python",
   "name": "python",
   "nbconvert_exporter": "python",
   "pygments_lexer": "ipython3",
   "version": "3.12.6"
  }
 },
 "nbformat": 4,
 "nbformat_minor": 5
}
